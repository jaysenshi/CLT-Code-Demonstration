{
 "cells": [
  {
   "cell_type": "code",
   "execution_count": 1,
   "id": "5861a7d9-8d40-4b0d-bc9f-cf7778dbc4af",
   "metadata": {},
   "outputs": [],
   "source": [
    "import numpy as np\n",
    "import random\n",
    "import matplotlib.pyplot as plt"
   ]
  },
  {
   "cell_type": "code",
   "execution_count": 2,
   "id": "abd72171-9f15-4094-bad0-c6247419d0a6",
   "metadata": {},
   "outputs": [],
   "source": [
    "def generate_sampling_mean(population, sample_size, n_samples):\n",
    "    # Create a list of n_sample samples)\n",
    "    list_of_samples = [random.sample(list(population), sample_size)\n",
    "                       for i in range(n_samples)]\n",
    "\n",
    "    # Find the mean for each sample in the list with sample size = sample_size\n",
    "    sample_means = [np.mean(np.array(sample)) for sample in list_of_samples]\n",
    "\n",
    "    # Find the mean of all the sample means.\n",
    "    population_mean_estimate = np.mean(np.array(sample_means))\n",
    "\n",
    "    # Find the variance of all the sample means\n",
    "    variance = np.std(np.array(sample_means))**2\n",
    "    return sample_means, population_mean_estimate, variance"
   ]
  },
  {
   "cell_type": "code",
   "execution_count": 3,
   "id": "0c555c0d",
   "metadata": {},
   "outputs": [],
   "source": [
    "def plot_histogram(lst):\n",
    "    count, bins, ignored = plt.hist(lst, 25, density=True)\n",
    "    plt.show()"
   ]
  },
  {
   "cell_type": "markdown",
   "id": "3b69e733",
   "metadata": {},
   "source": [
    "# Gamma Distribution"
   ]
  },
  {
   "cell_type": "markdown",
   "id": "3ed2b178-e3e1-42da-bf47-bcec7630e4eb",
   "metadata": {},
   "source": [
    "**<span style=\"color:green\">Generating sample from gamma distribution</span>**"
   ]
  },
  {
   "cell_type": "code",
   "execution_count": 4,
   "id": "3196f885-3f9c-41f7-ab7f-5824ca96d2c2",
   "metadata": {},
   "outputs": [],
   "source": [
    "shape, scale = 2., 2.\n",
    "population = np.random.gamma(shape, scale, 100000)"
   ]
  },
  {
   "cell_type": "code",
   "execution_count": 5,
   "id": "d39b5562",
   "metadata": {},
   "outputs": [
    {
     "data": {
      "text/plain": [
       "3.98958328972638"
      ]
     },
     "execution_count": 5,
     "metadata": {},
     "output_type": "execute_result"
    }
   ],
   "source": [
    "mean_population = np.mean(population)\n",
    "mean_population"
   ]
  },
  {
   "cell_type": "code",
   "execution_count": 6,
   "id": "b92570f0",
   "metadata": {},
   "outputs": [
    {
     "data": {
      "text/plain": [
       "7.90602075530805"
      ]
     },
     "execution_count": 6,
     "metadata": {},
     "output_type": "execute_result"
    }
   ],
   "source": [
    "variance_population = np.std(population)**2\n",
    "variance_population"
   ]
  },
  {
   "cell_type": "markdown",
   "id": "a250bbfd-4c99-4395-8c85-1f6fe165e6b0",
   "metadata": {},
   "source": [
    "**<span style=\"color:blue\">Population Distribution</span>**"
   ]
  },
  {
   "cell_type": "code",
   "execution_count": 7,
   "id": "db271cc9-12af-4c7f-b395-cc64d2c4ea39",
   "metadata": {},
   "outputs": [
    {
     "data": {
      "image/png": "[encoded data removed]",
      "text/plain": [
       "<Figure size 432x288 with 1 Axes>"
      ]
     },
     "metadata": {
      "needs_background": "light"
     },
     "output_type": "display_data"
    }
   ],
   "source": [
    "plot_histogram(population)"
   ]
  },
  {
   "cell_type": "markdown",
   "id": "252e6ff3-0b86-4274-8e2b-8da0c33e24ad",
   "metadata": {},
   "source": [
    "**Distribution of Sample means for <span style=\"color:red\">sample_size = 2</span>**"
   ]
  },
  {
   "cell_type": "code",
   "execution_count": 8,
   "id": "f4e12573-136e-4a05-bf3f-e56f5efa205a",
   "metadata": {},
   "outputs": [],
   "source": [
    "sample_means, mean_estimate, variance = generate_sampling_mean(\n",
    "                                population, sample_size=2, n_samples=1000)"
   ]
  },
  {
   "cell_type": "code",
   "execution_count": 9,
   "id": "0fecc5c9",
   "metadata": {},
   "outputs": [
    {
     "data": {
      "text/plain": [
       "3.9111749484062472"
      ]
     },
     "execution_count": 9,
     "metadata": {},
     "output_type": "execute_result"
    }
   ],
   "source": [
    "mean_estimate"
   ]
  },
  {
   "cell_type": "code",
   "execution_count": 10,
   "id": "0e19461b",
   "metadata": {},
   "outputs": [
    {
     "data": {
      "text/plain": [
       "3.9338332756428342"
      ]
     },
     "execution_count": 10,
     "metadata": {},
     "output_type": "execute_result"
    }
   ],
   "source": [
    "variance"
   ]
  },
  {
   "cell_type": "code",
   "execution_count": 11,
   "id": "e88ba518-28ef-4dbd-98e7-22c5abe76dc8",
   "metadata": {},
   "outputs": [
    {
     "data": {
      "image/png": "[encoded data removed]",
      "text/plain": [
       "<Figure size 432x288 with 1 Axes>"
      ]
     },
     "metadata": {
      "needs_background": "light"
     },
     "output_type": "display_data"
    }
   ],
   "source": [
    "plot_histogram(sample_means)"
   ]
  },
  {
   "cell_type": "markdown",
   "id": "7f1d98fe-b7ec-4cfd-ab59-0a802f309287",
   "metadata": {},
   "source": [
    "**Distribution of Sample means for <span style=\"color:red\">sample_size = 100</span>**"
   ]
  },
  {
   "cell_type": "code",
   "execution_count": 12,
   "id": "ccca9c5b-4ea4-4e74-8475-ae1cc5dc4555",
   "metadata": {},
   "outputs": [],
   "source": [
    "sample_means, mean_estimate, variance = generate_sampling_mean(\n",
    "                                population, sample_size=100, n_samples=1000)"
   ]
  },
  {
   "cell_type": "code",
   "execution_count": 13,
   "id": "96472378",
   "metadata": {},
   "outputs": [
    {
     "data": {
      "text/plain": [
       "3.9927104883057933"
      ]
     },
     "execution_count": 13,
     "metadata": {},
     "output_type": "execute_result"
    }
   ],
   "source": [
    "mean_estimate"
   ]
  },
  {
   "cell_type": "code",
   "execution_count": 14,
   "id": "c6391371",
   "metadata": {},
   "outputs": [
    {
     "data": {
      "text/plain": [
       "0.07768306837026537"
      ]
     },
     "execution_count": 14,
     "metadata": {},
     "output_type": "execute_result"
    }
   ],
   "source": [
    "variance"
   ]
  },
  {
   "cell_type": "code",
   "execution_count": 15,
   "id": "508faa7a-c0aa-448d-acef-e99c64cde8e5",
   "metadata": {},
   "outputs": [
    {
     "data": {
      "image/png": "[encoded data removed]",
      "text/plain": [
       "<Figure size 432x288 with 1 Axes>"
      ]
     },
     "metadata": {
      "needs_background": "light"
     },
     "output_type": "display_data"
    }
   ],
   "source": [
    "plot_histogram(sample_means)"
   ]
  },
  {
   "cell_type": "markdown",
   "id": "8ab72ba1",
   "metadata": {},
   "source": [
    "# Exponential Distribution"
   ]
  },
  {
   "cell_type": "markdown",
   "id": "b62989c3",
   "metadata": {},
   "source": [
    "**<span style=\"color:green\">Generating sample from exponential distribution</span>**"
   ]
  },
  {
   "cell_type": "code",
   "execution_count": 16,
   "id": "cf231730",
   "metadata": {},
   "outputs": [],
   "source": [
    "population = np.random.exponential(3.45, 1000000)"
   ]
  },
  {
   "cell_type": "code",
   "execution_count": 17,
   "id": "6de10c1d",
   "metadata": {},
   "outputs": [
    {
     "data": {
      "text/plain": [
       "3.449843838729665"
      ]
     },
     "execution_count": 17,
     "metadata": {},
     "output_type": "execute_result"
    }
   ],
   "source": [
    "mean_population = np.mean(population)\n",
    "mean_population"
   ]
  },
  {
   "cell_type": "markdown",
   "id": "baf400a6",
   "metadata": {},
   "source": [
    "**<span style=\"color:blue\">Population Distribution</span>**"
   ]
  },
  {
   "cell_type": "code",
   "execution_count": 18,
   "id": "affcb4d5",
   "metadata": {},
   "outputs": [
    {
     "data": {
      "image/png": "[encoded data removed]",
      "text/plain": [
       "<Figure size 432x288 with 1 Axes>"
      ]
     },
     "metadata": {
      "needs_background": "light"
     },
     "output_type": "display_data"
    }
   ],
   "source": [
    "plot_histogram(population)"
   ]
  },
  {
   "cell_type": "markdown",
   "id": "188e67fd",
   "metadata": {},
   "source": [
    "**Distribution of Sample means for <span style=\"color:red\">sample_size = 2</span>**"
   ]
  },
  {
   "cell_type": "code",
   "execution_count": 19,
   "id": "e6ddeb95",
   "metadata": {},
   "outputs": [],
   "source": [
    "sample_means, mean_estimate, variance = generate_sampling_mean(\n",
    "                                population, sample_size=2, n_samples=1000)"
   ]
  },
  {
   "cell_type": "code",
   "execution_count": 20,
   "id": "5aaa8c6b",
   "metadata": {},
   "outputs": [
    {
     "data": {
      "text/plain": [
       "3.392115748701946"
      ]
     },
     "execution_count": 20,
     "metadata": {},
     "output_type": "execute_result"
    }
   ],
   "source": [
    "mean_estimate"
   ]
  },
  {
   "cell_type": "code",
   "execution_count": 21,
   "id": "a425b6d1",
   "metadata": {},
   "outputs": [
    {
     "data": {
      "image/png": "[encoded data removed]",
      "text/plain": [
       "<Figure size 432x288 with 1 Axes>"
      ]
     },
     "metadata": {
      "needs_background": "light"
     },
     "output_type": "display_data"
    }
   ],
   "source": [
    "plot_histogram(sample_means)"
   ]
  },
  {
   "cell_type": "markdown",
   "id": "3742f476",
   "metadata": {},
   "source": [
    "**Distribution of Sample means for <span style=\"color:red\">sample_size = 100</span>**"
   ]
  },
  {
   "cell_type": "code",
   "execution_count": 22,
   "id": "c511194d",
   "metadata": {},
   "outputs": [],
   "source": [
    "sample_means, mean_estimate, variance = generate_sampling_mean(\n",
    "                                population, sample_size=100, n_samples=1000)"
   ]
  },
  {
   "cell_type": "code",
   "execution_count": 23,
   "id": "40728493",
   "metadata": {},
   "outputs": [
    {
     "data": {
      "text/plain": [
       "3.468930096831853"
      ]
     },
     "execution_count": 23,
     "metadata": {},
     "output_type": "execute_result"
    }
   ],
   "source": [
    "mean_estimate"
   ]
  },
  {
   "cell_type": "code",
   "execution_count": 24,
   "id": "cea1c466",
   "metadata": {},
   "outputs": [
    {
     "data": {
      "image/png": "[encoded data removed]",
      "text/plain": [
       "<Figure size 432x288 with 1 Axes>"
      ]
     },
     "metadata": {
      "needs_background": "light"
     },
     "output_type": "display_data"
    }
   ],
   "source": [
    "plot_histogram(sample_means)"
   ]
  },
  {
   "cell_type": "markdown",
   "id": "56e88c15",
   "metadata": {},
   "source": [
    "# Poisson Distribution"
   ]
  },
  {
   "cell_type": "markdown",
   "id": "428c9806",
   "metadata": {},
   "source": [
    "**<span style=\"color:green\">Generating sample from poisson distribution</span>**"
   ]
  },
  {
   "cell_type": "code",
   "execution_count": 25,
   "id": "b4ac1809",
   "metadata": {},
   "outputs": [],
   "source": [
    "population = np.random.poisson(5, 1000000)"
   ]
  },
  {
   "cell_type": "code",
   "execution_count": 26,
   "id": "42126200",
   "metadata": {},
   "outputs": [
    {
     "data": {
      "text/plain": [
       "5.002345"
      ]
     },
     "execution_count": 26,
     "metadata": {},
     "output_type": "execute_result"
    }
   ],
   "source": [
    "mean_population = np.mean(population)\n",
    "mean_population"
   ]
  },
  {
   "cell_type": "markdown",
   "id": "51f60801",
   "metadata": {},
   "source": [
    "**<span style=\"color:blue\">Population Distribution of poisson distribution</span>**"
   ]
  },
  {
   "cell_type": "code",
   "execution_count": 27,
   "id": "ab5aec5c",
   "metadata": {},
   "outputs": [
    {
     "data": {
      "image/png": "[encoded data removed]",
      "text/plain": [
       "<Figure size 432x288 with 1 Axes>"
      ]
     },
     "metadata": {
      "needs_background": "light"
     },
     "output_type": "display_data"
    }
   ],
   "source": [
    "plot_histogram(population)"
   ]
  },
  {
   "cell_type": "markdown",
   "id": "97900f3e",
   "metadata": {},
   "source": [
    "**Distribution of Sample means for <span style=\"color:red\">sample_size = 2</span>**"
   ]
  },
  {
   "cell_type": "code",
   "execution_count": 28,
   "id": "ed7c58d7",
   "metadata": {},
   "outputs": [],
   "source": [
    "sample_means, mean_estimate, variance = generate_sampling_mean(\n",
    "                                population, sample_size=2, n_samples=1000)"
   ]
  },
  {
   "cell_type": "code",
   "execution_count": 29,
   "id": "06c6b3ca",
   "metadata": {},
   "outputs": [
    {
     "data": {
      "text/plain": [
       "4.9705"
      ]
     },
     "execution_count": 29,
     "metadata": {},
     "output_type": "execute_result"
    }
   ],
   "source": [
    "mean_estimate"
   ]
  },
  {
   "cell_type": "code",
   "execution_count": 30,
   "id": "c79808cf",
   "metadata": {},
   "outputs": [
    {
     "data": {
      "image/png": "[encoded data removed]",
      "text/plain": [
       "<Figure size 432x288 with 1 Axes>"
      ]
     },
     "metadata": {
      "needs_background": "light"
     },
     "output_type": "display_data"
    }
   ],
   "source": [
    "plot_histogram(sample_means)"
   ]
  },
  {
   "cell_type": "markdown",
   "id": "fefad015",
   "metadata": {},
   "source": [
    "**Distribution of Sample means for <span style=\"color:red\">sample_size = 100</span>**"
   ]
  },
  {
   "cell_type": "code",
   "execution_count": 31,
   "id": "5f31f5ec",
   "metadata": {},
   "outputs": [],
   "source": [
    "sample_means, mean_estimate, variance = generate_sampling_mean(\n",
    "                                population, sample_size=100, n_samples=1000)"
   ]
  },
  {
   "cell_type": "code",
   "execution_count": 32,
   "id": "91ab6234",
   "metadata": {},
   "outputs": [
    {
     "data": {
      "text/plain": [
       "5.005529999999999"
      ]
     },
     "execution_count": 32,
     "metadata": {},
     "output_type": "execute_result"
    }
   ],
   "source": [
    "mean_estimate"
   ]
  },
  {
   "cell_type": "code",
   "execution_count": 33,
   "id": "68335721",
   "metadata": {},
   "outputs": [
    {
     "data": {
      "image/png": "[encoded data removed]",
      "text/plain": [
       "<Figure size 432x288 with 1 Axes>"
      ]
     },
     "metadata": {
      "needs_background": "light"
     },
     "output_type": "display_data"
    }
   ],
   "source": [
    "plot_histogram(sample_means)"
   ]
  }
 ],
 "metadata": {
  "kernelspec": {
   "display_name": "Python 3 (ipykernel)",
   "language": "python",
   "name": "python3"
  },
  "language_info": {
   "codemirror_mode": {
    "name": "ipython",
    "version": 3
   },
   "file_extension": ".py",
   "mimetype": "text/x-python",
   "name": "python",
   "nbconvert_exporter": "python",
   "pygments_lexer": "ipython3",
   "version": "3.8.11"
  }
 },
 "nbformat": 4,
 "nbformat_minor": 5
}
